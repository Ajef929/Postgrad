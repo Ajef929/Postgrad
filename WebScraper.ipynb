{
 "cells": [
  {
   "cell_type": "markdown",
   "metadata": {},
   "source": [
    "# DIGI405 - Web Scraping Lab - Python Task Sample Solutions"
   ]
  },
  {
   "cell_type": "markdown",
   "metadata": {},
   "source": [
    "### 1. Modify the regular expression to list all the 'Someday Stories' articles from https://www.rnz.co.nz/news/the-wireless"
   ]
  },
  {
   "cell_type": "code",
   "execution_count": 1,
   "metadata": {},
   "outputs": [
    {
     "name": "stdout",
     "output_type": "stream",
     "text": [
      "Someday Stories: Repugnant /news/the-wireless/375289/someday-stories-repugnant\n",
      "Someday Stories: UAPŌIFALEMALU /news/the-wireless/375290/someday-stories-uapoifalemalu\n",
      "Someday Stories: FOODIE /news/the-wireless/375291/someday-stories-foodie\n",
      "Someday Stories: Bloom /news/the-wireless/375288/someday-stories-bloom\n",
      "Someday Stories: DISORDER /news/the-wireless/375287/someday-stories-disorder\n",
      "Someday Stories: I am Waru /news/the-wireless/375286/someday-stories-i-am-waru\n"
     ]
    }
   ],
   "source": [
    "import requests\n",
    "from bs4 import BeautifulSoup\n",
    "import re\n",
    "\n",
    "response = requests.get('https://www.radionz.co.nz/news/the-wireless')\n",
    "soup = BeautifulSoup(response.text, 'html.parser')\n",
    "\n",
    "regex_results = soup.find_all(string=re.compile(\"Someday Stories:\"))\n",
    "for result in regex_results:\n",
    "    link = result.find_parent('a', class_='faux-link') # just want the relevant links\n",
    "    if link is not None:\n",
    "        print(link.get_text(),link['href']) #output link text and url"
   ]
  },
  {
   "cell_type": "markdown",
   "metadata": {},
   "source": [
    "### 2. Copy and modify the code to collect all the links in the text of this article: https://www.radionz.co.nz/news/the-wireless/375285/feature-artificial-affection-the-psychology-of-human-robot-interactions"
   ]
  },
  {
   "cell_type": "code",
   "execution_count": 2,
   "metadata": {},
   "outputs": [
    {
     "name": "stdout",
     "output_type": "stream",
     "text": [
      "https://www.ncbi.nlm.nih.gov/pmc/articles/PMC3408111/\n",
      "https://www.ifa-fiv.org/wp-content/uploads/2015/11/2015-PARO-Norway-JAMDA.pdf\n",
      "https://www.youtube.com/watch?v=2STTNYNF4lk\n",
      "https://mspace.lib.umanitoba.ca/bitstream/handle/1993/30248/seo_stela.pdf?sequence=3\n",
      "https://www.nature.com/articles/srep15924\n",
      "https://asset.jmir.pub/assets/4f90df1a1aa050847a1bad04b8059ba4.pdf\n"
     ]
    }
   ],
   "source": [
    "import requests\n",
    "from bs4 import BeautifulSoup\n",
    "\n",
    "response = requests.get('https://www.radionz.co.nz/news/the-wireless/375285/feature-artificial-affection-the-psychology-of-human-robot-interactions')\n",
    "soup = BeautifulSoup(response.text, 'html.parser')\n",
    "article_body = soup.find(class_='article__body')\n",
    "links = article_body.find_all('a')\n",
    "for link in links:\n",
    "    print(link['href'])"
   ]
  },
  {
   "cell_type": "markdown",
   "metadata": {},
   "source": [
    "### 3. For the story https://www.radionz.co.nz/news/the-wireless/375285/feature-artificial-affection-the-psychology-of-human-robot-interactions, write code to extract the photo caption text using .select() and CSS selectors. "
   ]
  },
  {
   "cell_type": "code",
   "execution_count": 3,
   "metadata": {},
   "outputs": [
    {
     "name": "stdout",
     "output_type": "stream",
     "text": [
      "Joy For All Companion Pets  are social robots intended for eldercare.\n",
      "Dr Craig Sutherland with with an iRobi, a Paro and Nao.\n",
      "EveR uses a camera to tilt its gaze towards passersby like a possessed bust sculpture.\n",
      "Dr Cherie Lacey is a media studies lecturer at Victoria University.\n"
     ]
    }
   ],
   "source": [
    "import requests\n",
    "from bs4 import BeautifulSoup\n",
    "\n",
    "response = requests.get('https://www.radionz.co.nz/news/the-wireless/375285/feature-artificial-affection-the-psychology-of-human-robot-interactions')\n",
    "soup = BeautifulSoup(response.text, 'html.parser')\n",
    "\n",
    "# there are other ways you could write the CSS selector below\n",
    "# you could be less specific - this just makes sure have span.caption \n",
    "# within an element with .photo-captioned__information as class\n",
    "captions = soup.select('.photo-captioned__information span.caption') \n",
    "\n",
    "for caption in captions:\n",
    "    print(caption.get_text().strip()) #.strip() just strips the whitespace\n"
   ]
  },
  {
   "cell_type": "markdown",
   "metadata": {},
   "source": [
    "### 4. On the page https://www.rnz.co.nz/news/the-wireless the articles with video are indicated with (VIDEO) after the description. Write some code to find all stories and test whether a story contains video. Your code should output the URL to each story that features video"
   ]
  },
  {
   "cell_type": "code",
   "execution_count": 4,
   "metadata": {},
   "outputs": [
    {
     "name": "stdout",
     "output_type": "stream",
     "text": [
      "/news/the-wireless/377734/watch-comedian-in-a-cab\n",
      "/news/the-wireless/376626/watch-transitioning-from-bullied-kid-to-wrestling-champ\n",
      "/news/the-wireless/375719/watch-the-ex-league-star-wanting-bros-to-change\n",
      "/news/the-wireless/377177/watch-when-big-shot-artist-hundertwasser-moved-to-northland\n",
      "/news/the-wireless/375505/watch-the-journey-of-a-flower\n",
      "/news/the-wireless/375276/crime-and-punishment-will-freeing-more-prisoners-work\n"
     ]
    }
   ],
   "source": [
    "import requests\n",
    "from bs4 import BeautifulSoup\n",
    "\n",
    "response = requests.get('https://www.radionz.co.nz/news/the-wireless')\n",
    "soup = BeautifulSoup(response.text, 'html.parser')\n",
    "\n",
    "stories = soup.find_all('li', class_='o-digest')\n",
    "for story in stories:\n",
    "    flag = story.find('span', class_='media-types')\n",
    "    if flag and flag.string == 'Video':\n",
    "        print(story.a['href'])\n",
    "        "
   ]
  },
  {
   "cell_type": "code",
   "execution_count": null,
   "metadata": {},
   "outputs": [],
   "source": []
  }
 ],
 "metadata": {
  "kernelspec": {
   "display_name": "Python 3 (ipykernel)",
   "language": "python",
   "name": "python3"
  },
  "language_info": {
   "codemirror_mode": {
    "name": "ipython",
    "version": 3
   },
   "file_extension": ".py",
   "mimetype": "text/x-python",
   "name": "python",
   "nbconvert_exporter": "python",
   "pygments_lexer": "ipython3",
   "version": "3.9.6"
  }
 },
 "nbformat": 4,
 "nbformat_minor": 2
}
